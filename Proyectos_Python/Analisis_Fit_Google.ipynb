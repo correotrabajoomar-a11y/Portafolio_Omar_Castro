{
 "cells": [
  {
   "cell_type": "markdown",
   "id": "9ff5ff76",
   "metadata": {},
   "source": [
    "# Importar librerias necesarias"
   ]
  },
  {
   "cell_type": "code",
   "execution_count": 12,
   "id": "cc0ea102",
   "metadata": {},
   "outputs": [],
   "source": [
    "import os\n",
    "import xml.etree.ElementTree as ET\n",
    "import pandas as pd\n",
    "import json\n",
    "import pyodbc\n",
    "import locale\n"
   ]
  },
  {
   "cell_type": "markdown",
   "id": "22624008",
   "metadata": {},
   "source": [
    "# Inspeccionar contenido de un archivo muestra.txt"
   ]
  },
  {
   "cell_type": "code",
   "execution_count": 13,
   "id": "b5e3c642",
   "metadata": {},
   "outputs": [],
   "source": [
    "def inspeccionar_tcx(ruta_archivo):\n",
    "    ns = {'tcx': 'http://www.garmin.com/xmlschemas/TrainingCenterDatabase/v2'}\n",
    "    tree = ET.parse(ruta_archivo)\n",
    "    root = tree.getroot()\n",
    "\n",
    "    # Buscar nodos clave\n",
    "    tiene_pasos = root.find('.//tcx:Steps', ns) is not None\n",
    "    tiene_tiempo_actividad = root.find('.//tcx:TotalTimeSeconds', ns) is not None\n",
    "    tiene_velocidad = root.find('.//tcx:Speed', ns) is not None\n",
    "    tiene_distancia = root.find('.//tcx:DistanceMeters', ns) is not None\n",
    "    tiene_fc = root.find('.//tcx:HeartRateBpm', ns) is not None\n",
    "    tiene_altitud = root.find('.//tcx:AltitudeMeters', ns) is not None\n",
    "    tiene_calorias = root.find('.//tcx:Calories', ns) is not None\n",
    "\n",
    "    print(f\"Archivo: {ruta_archivo}\")\n",
    "    print(f\"Pasos: {'Sí' if tiene_pasos else 'No'}\")\n",
    "    print(f\"Tiempo de actividad: {'Sí' if tiene_tiempo_actividad else 'No'}\")\n",
    "    print(f\"Velocidad: {'Sí' if tiene_velocidad else 'No'}\")\n",
    "    print(f\"Distancia: {'Sí' if tiene_distancia else 'No'}\")\n",
    "    print(f\"Frecuencia cardíaca: {'Sí' if tiene_fc else 'No'}\")\n",
    "    print(f\"Altitud: {'Sí' if tiene_altitud else 'No'}\")\n",
    "    print(f\"Calorías: {'Sí' if tiene_calorias else 'No'}\")"
   ]
  },
  {
   "cell_type": "markdown",
   "id": "21e0a664",
   "metadata": {},
   "source": [
    "# Extraer los valores muestra de un archivo, para filtrar o clasificar los archivos antes de analizarlos. (Bicicleta)\n"
   ]
  },
  {
   "cell_type": "code",
   "execution_count": 14,
   "id": "8a4788d8",
   "metadata": {},
   "outputs": [
    {
     "name": "stdout",
     "output_type": "stream",
     "text": [
      "Archivo: C:\\Users\\ilove\\OneDrive\\Escritorio\\Cursos Data\\Basicos_Python\\archivos TXC proyecto\\2016-09-11T07_34_14-05_00_PT2H18M29.806S_Ciclismo_.tcx\n",
      "Pasos: No\n",
      "Tiempo de actividad: Sí\n",
      "Velocidad: No\n",
      "Distancia: Sí\n",
      "Frecuencia cardíaca: No\n",
      "Altitud: No\n",
      "Calorías: Sí\n"
     ]
    }
   ],
   "source": [
    "\n",
    "inspeccionar_tcx(r'C:\\Users\\ilove\\OneDrive\\Escritorio\\Cursos Data\\Basicos_Python\\archivos TXC proyecto\\2016-09-11T07_34_14-05_00_PT2H18M29.806S_Ciclismo_.tcx')"
   ]
  },
  {
   "cell_type": "code",
   "execution_count": 15,
   "id": "f57635bb",
   "metadata": {},
   "outputs": [
    {
     "name": "stdout",
     "output_type": "stream",
     "text": [
      "Archivo: C:\\Users\\ilove\\OneDrive\\Escritorio\\Cursos Data\\Basicos_Python\\archivos TXC proyecto\\2016-01-08T16_16_37-06_00_PT25M22S_Correr.tcx\n",
      "Pasos: No\n",
      "Tiempo de actividad: Sí\n",
      "Velocidad: No\n",
      "Distancia: Sí\n",
      "Frecuencia cardíaca: No\n",
      "Altitud: Sí\n",
      "Calorías: Sí\n"
     ]
    }
   ],
   "source": [
    "# Segundo archivo muestra (Correr)\n",
    "inspeccionar_tcx(r'C:\\Users\\ilove\\OneDrive\\Escritorio\\Cursos Data\\Basicos_Python\\archivos TXC proyecto\\2016-01-08T16_16_37-06_00_PT25M22S_Correr.tcx')"
   ]
  },
  {
   "cell_type": "markdown",
   "id": "70264a4d",
   "metadata": {},
   "source": [
    "# Función extraer datos clave de cada archivo, devuelve un resumen con:\n",
    "- \tFecha y hora de inicio\n",
    "- \tFecha y hora de fin\n",
    "- \tDuración total\n",
    "- \tDistancia total\n",
    "- \tVelocidad promedio\n",
    "- \tCalorias"
   ]
  },
  {
   "cell_type": "code",
   "execution_count": 16,
   "id": "34f02a53",
   "metadata": {},
   "outputs": [],
   "source": [
    "\n",
    "def resumen_tcx(ruta_archivo):\n",
    "    ns = {'tcx': 'http://www.garmin.com/xmlschemas/TrainingCenterDatabase/v2'}\n",
    "    try:\n",
    "        tree = ET.parse(ruta_archivo)\n",
    "        root = tree.getroot()\n",
    "\n",
    "        # Tipo de deporte\n",
    "        actividad = root.find('.//tcx:Activity', ns)\n",
    "        tipo_deporte = actividad.attrib.get('Sport') if actividad is not None else 'Desconocido'\n",
    "\n",
    "        # Calorías (sumar todas las laps si hay más de una)\n",
    "        laps = root.findall('.//tcx:Lap', ns)\n",
    "        calorias = sum([\n",
    "        round(float(lap.find('tcx:Calories', ns).text))\n",
    "        for lap in laps\n",
    "        if lap.find('tcx:Calories', ns) is not None\n",
    "        ])\n",
    "\n",
    "        # Trackpoints\n",
    "        trackpoints = root.findall('.//tcx:Trackpoint', ns)\n",
    "        tiempos = []\n",
    "        distancias = []\n",
    "\n",
    "        for tp in trackpoints:\n",
    "            tiempo = tp.find('tcx:Time', ns)\n",
    "            distancia = tp.find('tcx:DistanceMeters', ns)\n",
    "\n",
    "            if tiempo is not None:\n",
    "                tiempos.append(pd.to_datetime(tiempo.text).tz_localize(None))\n",
    "            if distancia is not None:\n",
    "                distancias.append(float(distancia.text))\n",
    "\n",
    "        if len(tiempos) < 2 or len(distancias) < 2:\n",
    "            return None\n",
    "\n",
    "        inicio = min(tiempos)\n",
    "        fin = max(tiempos)\n",
    "        duracion_seg = (fin - inicio).total_seconds()\n",
    "        distancia_total_m = max(distancias) - min(distancias)\n",
    "        velocidad_prom_kmh = (distancia_total_m / duracion_seg) * 3.6\n",
    "        mes = inicio.strftime('%Y-%m')\n",
    "\n",
    "        return {\n",
    "            'Archivo': os.path.basename(ruta_archivo),\n",
    "            'Tipo de deporte': tipo_deporte,\n",
    "            'Inicio': inicio.strftime('%d/%m/%Y %H:%M:%S'),\n",
    "            'Fin': fin.strftime('%d/%m/%Y %H:%M:%S'),\n",
    "            'Duración (min)': round(duracion_seg / 60, 2),\n",
    "            'Distancia total (km)': round(distancia_total_m / 1000, 2),\n",
    "            'Velocidad promedio (km/h)': round(velocidad_prom_kmh, 2),\n",
    "            'Calorías': calorias\n",
    "        }\n",
    "    except Exception as e:\n",
    "        print(f\"Error en {ruta_archivo}: {e}\")\n",
    "        return None"
   ]
  },
  {
   "cell_type": "markdown",
   "id": "47705cd2",
   "metadata": {},
   "source": [
    "# Procesar archivos"
   ]
  },
  {
   "cell_type": "code",
   "execution_count": 17,
   "id": "80e88226",
   "metadata": {},
   "outputs": [],
   "source": [
    "carpeta = r'C:\\Users\\ilove\\OneDrive\\Escritorio\\Archivos para proyectos\\complementos'  # Ajusta esta ruta\n",
    "archivos = [f for f in os.listdir(carpeta) if f.endswith('.tcx')]\n",
    "\n",
    "resumenes = []\n",
    "for archivo in archivos:\n",
    "    ruta = os.path.join(carpeta, archivo)\n",
    "    resumen = resumen_tcx(ruta)\n",
    "    if resumen:\n",
    "        resumenes.append(resumen)"
   ]
  },
  {
   "cell_type": "markdown",
   "id": "18d611ca",
   "metadata": {},
   "source": [
    "# Exportar archivos: .csv, .json, .sql"
   ]
  },
  {
   "cell_type": "code",
   "execution_count": 18,
   "id": "02a24b33",
   "metadata": {},
   "outputs": [],
   "source": [
    "# Exportar a JSON\n",
    "with open('resumen_entrenamientos.json', 'w', encoding='utf-8') as f:\n",
    "    json.dump(resumenes, f, ensure_ascii=False, indent=4)\n",
    "\n",
    "# Exportar a CSV\n",
    "df_resumen = pd.DataFrame(resumenes)\n",
    "df_resumen.to_csv('resumen_entrenamientos.csv', index=False, encoding='utf-8')\n",
    "\n",
    "# Exportar a archivo .sql\n",
    "with open('resumen_entrenamientos.sql', 'w', encoding='utf-8') as f:\n",
    "    # Crear tabla\n",
    "    f.write(\"\"\"\n",
    "IF OBJECT_ID('dbo.resumen_entrenamientos', 'U') IS NULL\n",
    "BEGIN\n",
    "    CREATE TABLE dbo.resumen_entrenamientos (\n",
    "        Id INT IDENTITY(1,1) PRIMARY KEY,\n",
    "        Archivo NVARCHAR(255),\n",
    "        Tipo_deporte NVARCHAR(50),\n",
    "        Inicio DATETIME,\n",
    "        Fin DATETIME,\n",
    "        Duracion_min FLOAT,\n",
    "        Distancia_total_km FLOAT,\n",
    "        Velocidad_promedio_kmh FLOAT,\n",
    "        Calorias INT\n",
    "    )\n",
    "END\n",
    "GO\n",
    "\n",
    "\"\"\")\n",
    "\n",
    "    # Insertar datos\n",
    "    for r in resumenes:\n",
    "        try:\n",
    "            insert_line = (\n",
    "                \"INSERT INTO dbo.resumen_entrenamientos (Archivo, Tipo_deporte, Inicio, Fin, Duracion_min, Distancia_total_km, Velocidad_promedio_kmh, Calorias)\\n\"\n",
    "                f\"VALUES (N'{r['Archivo']}', N'{r['Tipo de deporte']}', '{r['Inicio']}', '{r['Fin']}', {r['Duración (min)']}, {r['Distancia total (km)']}, {r['Velocidad promedio (km/h)']}, {r['Calorías']});\\n\"\n",
    "            )\n",
    "            f.write(insert_line)\n",
    "        except KeyError as e:\n",
    "            print(f\"❌ Faltan datos en una fila: {e}\")\n",
    "    f.write(\"GO\\n\")\n"
   ]
  },
  {
   "cell_type": "markdown",
   "id": "8c5138f3",
   "metadata": {},
   "source": [
    "## Se obtuvieron archivos de muestra, los archivos completos se utilizaran en analisis por medio de Power Bi y Proyectos de SQL"
   ]
  }
 ],
 "metadata": {
  "kernelspec": {
   "display_name": "Python 3",
   "language": "python",
   "name": "python3"
  },
  "language_info": {
   "codemirror_mode": {
    "name": "ipython",
    "version": 3
   },
   "file_extension": ".py",
   "mimetype": "text/x-python",
   "name": "python",
   "nbconvert_exporter": "python",
   "pygments_lexer": "ipython3",
   "version": "3.14.0"
  }
 },
 "nbformat": 4,
 "nbformat_minor": 5
}
